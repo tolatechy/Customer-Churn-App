{
 "cells": [
  {
   "cell_type": "markdown",
   "id": "f4327ac3",
   "metadata": {},
   "source": [
    "# Project Title:\n",
    "## Empowering Businesses with Data-driven Insights for Customer Retention\n",
    "\n",
    "### By Iqra A."
   ]
  },
  {
   "cell_type": "code",
   "execution_count": 90,
   "id": "36d4e208",
   "metadata": {},
   "outputs": [],
   "source": [
    "import pandas as pd\n",
    "import numpy as np\n",
    "import matplotlib.pyplot as plt\n",
    "import seaborn as sns\n",
    "from sklearn.ensemble import RandomForestClassifier\n",
    "from sklearn.tree import DecisionTreeClassifier, ExtraTreeClassifier\n",
    "from sklearn.model_selection import StratifiedKFold, cross_val_score, GridSearchCV\n",
    "from sklearn.linear_model import LogisticRegression\n",
    "from sklearn.metrics import classification_report, confusion_matrix, accuracy_score, ConfusionMatrixDisplay\n",
    "from xgboost import XGBClassifier\n",
    "from imblearn.over_sampling import SMOTE\n",
    "from sklearn.feature_selection import RFECV\n",
    "from sklearn.preprocessing import LabelEncoder, MinMaxScaler, StandardScaler\n",
    "\n",
    "import warnings\n",
    "warnings.filterwarnings('ignore')"
   ]
  },
  {
   "cell_type": "markdown",
   "id": "fb7f108d",
   "metadata": {},
   "source": [
    "This project begins with an extensive Exploratory Data Analysis (EDA) that prepares the data for classification. EDA techniques were used to check for missing values and replace missing observations where necessary. Columns that were considered unfit for the modelling were removed. For visualizations, the cleaned dataframe was exported to Tablue for adequate and interactive dashboard."
   ]
  },
  {
   "cell_type": "markdown",
   "id": "5474cad3",
   "metadata": {},
   "source": [
    "# Exploratory Data Analysis (EDA)"
   ]
  },
  {
   "cell_type": "code",
   "execution_count": 91,
   "id": "e59254d3",
   "metadata": {
    "scrolled": true
   },
   "outputs": [
    {
     "data": {
      "text/html": [
       "<div>\n",
       "<style scoped>\n",
       "    .dataframe tbody tr th:only-of-type {\n",
       "        vertical-align: middle;\n",
       "    }\n",
       "\n",
       "    .dataframe tbody tr th {\n",
       "        vertical-align: top;\n",
       "    }\n",
       "\n",
       "    .dataframe thead th {\n",
       "        text-align: right;\n",
       "    }\n",
       "</style>\n",
       "<table border=\"1\" class=\"dataframe\">\n",
       "  <thead>\n",
       "    <tr style=\"text-align: right;\">\n",
       "      <th></th>\n",
       "      <th>CustomerID</th>\n",
       "      <th>Count</th>\n",
       "      <th>Country</th>\n",
       "      <th>State</th>\n",
       "      <th>City</th>\n",
       "      <th>Zip Code</th>\n",
       "      <th>Lat Long</th>\n",
       "      <th>Latitude</th>\n",
       "      <th>Longitude</th>\n",
       "      <th>Gender</th>\n",
       "      <th>...</th>\n",
       "      <th>Contract</th>\n",
       "      <th>Paperless Billing</th>\n",
       "      <th>Payment Method</th>\n",
       "      <th>Monthly Charges</th>\n",
       "      <th>Total Charges</th>\n",
       "      <th>Churn Label</th>\n",
       "      <th>Churn Value</th>\n",
       "      <th>Churn Score</th>\n",
       "      <th>CLTV</th>\n",
       "      <th>Churn Reason</th>\n",
       "    </tr>\n",
       "  </thead>\n",
       "  <tbody>\n",
       "    <tr>\n",
       "      <th>0</th>\n",
       "      <td>3668-QPYBK</td>\n",
       "      <td>1</td>\n",
       "      <td>United States</td>\n",
       "      <td>California</td>\n",
       "      <td>Los Angeles</td>\n",
       "      <td>90003</td>\n",
       "      <td>33.964131, -118.272783</td>\n",
       "      <td>33.964131</td>\n",
       "      <td>-118.272783</td>\n",
       "      <td>Male</td>\n",
       "      <td>...</td>\n",
       "      <td>Month-to-month</td>\n",
       "      <td>Yes</td>\n",
       "      <td>Mailed check</td>\n",
       "      <td>53.85</td>\n",
       "      <td>108.15</td>\n",
       "      <td>Yes</td>\n",
       "      <td>1</td>\n",
       "      <td>86</td>\n",
       "      <td>3239</td>\n",
       "      <td>Competitor made better offer</td>\n",
       "    </tr>\n",
       "    <tr>\n",
       "      <th>1</th>\n",
       "      <td>9237-HQITU</td>\n",
       "      <td>1</td>\n",
       "      <td>United States</td>\n",
       "      <td>California</td>\n",
       "      <td>Los Angeles</td>\n",
       "      <td>90005</td>\n",
       "      <td>34.059281, -118.30742</td>\n",
       "      <td>34.059281</td>\n",
       "      <td>-118.307420</td>\n",
       "      <td>Female</td>\n",
       "      <td>...</td>\n",
       "      <td>Month-to-month</td>\n",
       "      <td>Yes</td>\n",
       "      <td>Electronic check</td>\n",
       "      <td>70.70</td>\n",
       "      <td>151.65</td>\n",
       "      <td>Yes</td>\n",
       "      <td>1</td>\n",
       "      <td>67</td>\n",
       "      <td>2701</td>\n",
       "      <td>Moved</td>\n",
       "    </tr>\n",
       "    <tr>\n",
       "      <th>2</th>\n",
       "      <td>9305-CDSKC</td>\n",
       "      <td>1</td>\n",
       "      <td>United States</td>\n",
       "      <td>California</td>\n",
       "      <td>Los Angeles</td>\n",
       "      <td>90006</td>\n",
       "      <td>34.048013, -118.293953</td>\n",
       "      <td>34.048013</td>\n",
       "      <td>-118.293953</td>\n",
       "      <td>Female</td>\n",
       "      <td>...</td>\n",
       "      <td>Month-to-month</td>\n",
       "      <td>Yes</td>\n",
       "      <td>Electronic check</td>\n",
       "      <td>99.65</td>\n",
       "      <td>820.5</td>\n",
       "      <td>Yes</td>\n",
       "      <td>1</td>\n",
       "      <td>86</td>\n",
       "      <td>5372</td>\n",
       "      <td>Moved</td>\n",
       "    </tr>\n",
       "    <tr>\n",
       "      <th>3</th>\n",
       "      <td>7892-POOKP</td>\n",
       "      <td>1</td>\n",
       "      <td>United States</td>\n",
       "      <td>California</td>\n",
       "      <td>Los Angeles</td>\n",
       "      <td>90010</td>\n",
       "      <td>34.062125, -118.315709</td>\n",
       "      <td>34.062125</td>\n",
       "      <td>-118.315709</td>\n",
       "      <td>Female</td>\n",
       "      <td>...</td>\n",
       "      <td>Month-to-month</td>\n",
       "      <td>Yes</td>\n",
       "      <td>Electronic check</td>\n",
       "      <td>104.80</td>\n",
       "      <td>3046.05</td>\n",
       "      <td>Yes</td>\n",
       "      <td>1</td>\n",
       "      <td>84</td>\n",
       "      <td>5003</td>\n",
       "      <td>Moved</td>\n",
       "    </tr>\n",
       "    <tr>\n",
       "      <th>4</th>\n",
       "      <td>0280-XJGEX</td>\n",
       "      <td>1</td>\n",
       "      <td>United States</td>\n",
       "      <td>California</td>\n",
       "      <td>Los Angeles</td>\n",
       "      <td>90015</td>\n",
       "      <td>34.039224, -118.266293</td>\n",
       "      <td>34.039224</td>\n",
       "      <td>-118.266293</td>\n",
       "      <td>Male</td>\n",
       "      <td>...</td>\n",
       "      <td>Month-to-month</td>\n",
       "      <td>Yes</td>\n",
       "      <td>Bank transfer (automatic)</td>\n",
       "      <td>103.70</td>\n",
       "      <td>5036.3</td>\n",
       "      <td>Yes</td>\n",
       "      <td>1</td>\n",
       "      <td>89</td>\n",
       "      <td>5340</td>\n",
       "      <td>Competitor had better devices</td>\n",
       "    </tr>\n",
       "  </tbody>\n",
       "</table>\n",
       "<p>5 rows × 33 columns</p>\n",
       "</div>"
      ],
      "text/plain": [
       "   CustomerID  Count        Country       State         City  Zip Code  \\\n",
       "0  3668-QPYBK      1  United States  California  Los Angeles     90003   \n",
       "1  9237-HQITU      1  United States  California  Los Angeles     90005   \n",
       "2  9305-CDSKC      1  United States  California  Los Angeles     90006   \n",
       "3  7892-POOKP      1  United States  California  Los Angeles     90010   \n",
       "4  0280-XJGEX      1  United States  California  Los Angeles     90015   \n",
       "\n",
       "                 Lat Long   Latitude   Longitude  Gender  ...        Contract  \\\n",
       "0  33.964131, -118.272783  33.964131 -118.272783    Male  ...  Month-to-month   \n",
       "1   34.059281, -118.30742  34.059281 -118.307420  Female  ...  Month-to-month   \n",
       "2  34.048013, -118.293953  34.048013 -118.293953  Female  ...  Month-to-month   \n",
       "3  34.062125, -118.315709  34.062125 -118.315709  Female  ...  Month-to-month   \n",
       "4  34.039224, -118.266293  34.039224 -118.266293    Male  ...  Month-to-month   \n",
       "\n",
       "  Paperless Billing             Payment Method  Monthly Charges Total Charges  \\\n",
       "0               Yes               Mailed check            53.85        108.15   \n",
       "1               Yes           Electronic check            70.70        151.65   \n",
       "2               Yes           Electronic check            99.65         820.5   \n",
       "3               Yes           Electronic check           104.80       3046.05   \n",
       "4               Yes  Bank transfer (automatic)           103.70        5036.3   \n",
       "\n",
       "  Churn Label Churn Value Churn Score  CLTV                   Churn Reason  \n",
       "0         Yes           1          86  3239   Competitor made better offer  \n",
       "1         Yes           1          67  2701                          Moved  \n",
       "2         Yes           1          86  5372                          Moved  \n",
       "3         Yes           1          84  5003                          Moved  \n",
       "4         Yes           1          89  5340  Competitor had better devices  \n",
       "\n",
       "[5 rows x 33 columns]"
      ]
     },
     "execution_count": 91,
     "metadata": {},
     "output_type": "execute_result"
    }
   ],
   "source": [
    "df = pd.read_excel('data.xlsx')\n",
    "df.head()"
   ]
  },
  {
   "cell_type": "code",
   "execution_count": 4,
   "id": "b8e6fa98",
   "metadata": {},
   "outputs": [
    {
     "data": {
      "text/plain": [
       "Index(['CustomerID', 'Count', 'Country', 'State', 'City', 'Zip Code',\n",
       "       'Lat Long', 'Latitude', 'Longitude', 'Gender', 'Senior Citizen',\n",
       "       'Partner', 'Dependents', 'Tenure Months', 'Phone Service',\n",
       "       'Multiple Lines', 'Internet Service', 'Online Security',\n",
       "       'Online Backup', 'Device Protection', 'Tech Support', 'Streaming TV',\n",
       "       'Streaming Movies', 'Contract', 'Paperless Billing', 'Payment Method',\n",
       "       'Monthly Charges', 'Total Charges', 'Churn Label', 'Churn Value',\n",
       "       'Churn Score', 'CLTV', 'Churn Reason'],\n",
       "      dtype='object')"
      ]
     },
     "execution_count": 4,
     "metadata": {},
     "output_type": "execute_result"
    }
   ],
   "source": [
    "df.columns"
   ]
  },
  {
   "cell_type": "code",
   "execution_count": 5,
   "id": "5563ba75",
   "metadata": {},
   "outputs": [
    {
     "name": "stdout",
     "output_type": "stream",
     "text": [
      "<class 'pandas.core.frame.DataFrame'>\n",
      "RangeIndex: 7043 entries, 0 to 7042\n",
      "Data columns (total 33 columns):\n",
      " #   Column             Non-Null Count  Dtype  \n",
      "---  ------             --------------  -----  \n",
      " 0   CustomerID         7043 non-null   object \n",
      " 1   Count              7043 non-null   int64  \n",
      " 2   Country            7043 non-null   object \n",
      " 3   State              7043 non-null   object \n",
      " 4   City               7043 non-null   object \n",
      " 5   Zip Code           7043 non-null   int64  \n",
      " 6   Lat Long           7043 non-null   object \n",
      " 7   Latitude           7043 non-null   float64\n",
      " 8   Longitude          7043 non-null   float64\n",
      " 9   Gender             7043 non-null   object \n",
      " 10  Senior Citizen     7043 non-null   object \n",
      " 11  Partner            7043 non-null   object \n",
      " 12  Dependents         7043 non-null   object \n",
      " 13  Tenure Months      7043 non-null   int64  \n",
      " 14  Phone Service      7043 non-null   object \n",
      " 15  Multiple Lines     7043 non-null   object \n",
      " 16  Internet Service   7043 non-null   object \n",
      " 17  Online Security    7043 non-null   object \n",
      " 18  Online Backup      7043 non-null   object \n",
      " 19  Device Protection  7043 non-null   object \n",
      " 20  Tech Support       7043 non-null   object \n",
      " 21  Streaming TV       7043 non-null   object \n",
      " 22  Streaming Movies   7043 non-null   object \n",
      " 23  Contract           7043 non-null   object \n",
      " 24  Paperless Billing  7043 non-null   object \n",
      " 25  Payment Method     7043 non-null   object \n",
      " 26  Monthly Charges    7043 non-null   float64\n",
      " 27  Total Charges      7043 non-null   object \n",
      " 28  Churn Label        7043 non-null   object \n",
      " 29  Churn Value        7043 non-null   int64  \n",
      " 30  Churn Score        7043 non-null   int64  \n",
      " 31  CLTV               7043 non-null   int64  \n",
      " 32  Churn Reason       1869 non-null   object \n",
      "dtypes: float64(3), int64(6), object(24)\n",
      "memory usage: 1.8+ MB\n"
     ]
    }
   ],
   "source": [
    "df.info()"
   ]
  },
  {
   "cell_type": "code",
   "execution_count": 6,
   "id": "87d16ebb",
   "metadata": {},
   "outputs": [
    {
     "data": {
      "text/plain": [
       "CustomerID              0\n",
       "Count                   0\n",
       "Country                 0\n",
       "State                   0\n",
       "City                    0\n",
       "Zip Code                0\n",
       "Lat Long                0\n",
       "Latitude                0\n",
       "Longitude               0\n",
       "Gender                  0\n",
       "Senior Citizen          0\n",
       "Partner                 0\n",
       "Dependents              0\n",
       "Tenure Months           0\n",
       "Phone Service           0\n",
       "Multiple Lines          0\n",
       "Internet Service        0\n",
       "Online Security         0\n",
       "Online Backup           0\n",
       "Device Protection       0\n",
       "Tech Support            0\n",
       "Streaming TV            0\n",
       "Streaming Movies        0\n",
       "Contract                0\n",
       "Paperless Billing       0\n",
       "Payment Method          0\n",
       "Monthly Charges         0\n",
       "Total Charges           0\n",
       "Churn Label             0\n",
       "Churn Value             0\n",
       "Churn Score             0\n",
       "CLTV                    0\n",
       "Churn Reason         5174\n",
       "dtype: int64"
      ]
     },
     "execution_count": 6,
     "metadata": {},
     "output_type": "execute_result"
    }
   ],
   "source": [
    "df.isnull().sum()"
   ]
  },
  {
   "cell_type": "markdown",
   "id": "49448387",
   "metadata": {},
   "source": [
    "### Observations\n",
    "\n",
    "There are a total of 33 columns in the Data\n",
    "There are a total of 7043 observations in the data\n",
    "The `Churn Reason` column has a total of 5174 missing observations. This is worrisom, however not farfetched. Only customers who churned had inputs in the `Churn Reason` column. It will be a good idea to completely remove the column from the dataframe.\n",
    "The `Total charges` colums has a data type of object where as the data contained in it are float values. This need to be corrected."
   ]
  },
  {
   "cell_type": "code",
   "execution_count": 92,
   "id": "7b75d49b",
   "metadata": {},
   "outputs": [
    {
     "name": "stdout",
     "output_type": "stream",
     "text": [
      "<class 'pandas.core.frame.DataFrame'>\n",
      "RangeIndex: 7043 entries, 0 to 7042\n",
      "Data columns (total 33 columns):\n",
      " #   Column             Non-Null Count  Dtype  \n",
      "---  ------             --------------  -----  \n",
      " 0   CustomerID         7043 non-null   object \n",
      " 1   Count              7043 non-null   int64  \n",
      " 2   Country            7043 non-null   object \n",
      " 3   State              7043 non-null   object \n",
      " 4   City               7043 non-null   object \n",
      " 5   Zip Code           7043 non-null   int64  \n",
      " 6   Lat Long           7043 non-null   object \n",
      " 7   Latitude           7043 non-null   float64\n",
      " 8   Longitude          7043 non-null   float64\n",
      " 9   Gender             7043 non-null   object \n",
      " 10  Senior Citizen     7043 non-null   object \n",
      " 11  Partner            7043 non-null   object \n",
      " 12  Dependents         7043 non-null   object \n",
      " 13  Tenure Months      7043 non-null   int64  \n",
      " 14  Phone Service      7043 non-null   object \n",
      " 15  Multiple Lines     7043 non-null   object \n",
      " 16  Internet Service   7043 non-null   object \n",
      " 17  Online Security    7043 non-null   object \n",
      " 18  Online Backup      7043 non-null   object \n",
      " 19  Device Protection  7043 non-null   object \n",
      " 20  Tech Support       7043 non-null   object \n",
      " 21  Streaming TV       7043 non-null   object \n",
      " 22  Streaming Movies   7043 non-null   object \n",
      " 23  Contract           7043 non-null   object \n",
      " 24  Paperless Billing  7043 non-null   object \n",
      " 25  Payment Method     7043 non-null   object \n",
      " 26  Monthly Charges    7043 non-null   float64\n",
      " 27  Total Charges      7032 non-null   float64\n",
      " 28  Churn Label        7043 non-null   object \n",
      " 29  Churn Value        7043 non-null   int64  \n",
      " 30  Churn Score        7043 non-null   int64  \n",
      " 31  CLTV               7043 non-null   int64  \n",
      " 32  Churn Reason       1869 non-null   object \n",
      "dtypes: float64(4), int64(6), object(23)\n",
      "memory usage: 1.8+ MB\n"
     ]
    }
   ],
   "source": [
    "df['Total Charges'] = pd.to_numeric(df['Total Charges'], errors='coerce')\n",
    "df.info()"
   ]
  },
  {
   "cell_type": "code",
   "execution_count": 93,
   "id": "46a8d4d1",
   "metadata": {},
   "outputs": [],
   "source": [
    "df['Total Charges'].fillna(0, inplace=True)"
   ]
  },
  {
   "cell_type": "markdown",
   "id": "4432f60a",
   "metadata": {},
   "source": [
    "Now we can summarise the data to see which features will most likely not benefit our classification models, and proceed to eliminate them"
   ]
  },
  {
   "cell_type": "code",
   "execution_count": 179,
   "id": "28971d1e",
   "metadata": {},
   "outputs": [
    {
     "data": {
      "text/html": [
       "<div>\n",
       "<style scoped>\n",
       "    .dataframe tbody tr th:only-of-type {\n",
       "        vertical-align: middle;\n",
       "    }\n",
       "\n",
       "    .dataframe tbody tr th {\n",
       "        vertical-align: top;\n",
       "    }\n",
       "\n",
       "    .dataframe thead th {\n",
       "        text-align: right;\n",
       "    }\n",
       "</style>\n",
       "<table border=\"1\" class=\"dataframe\">\n",
       "  <thead>\n",
       "    <tr style=\"text-align: right;\">\n",
       "      <th></th>\n",
       "      <th>Count</th>\n",
       "      <th>Zip Code</th>\n",
       "      <th>Latitude</th>\n",
       "      <th>Longitude</th>\n",
       "      <th>Tenure Months</th>\n",
       "      <th>Monthly Charges</th>\n",
       "      <th>Total Charges</th>\n",
       "      <th>Churn Value</th>\n",
       "      <th>Churn Score</th>\n",
       "      <th>CLTV</th>\n",
       "    </tr>\n",
       "  </thead>\n",
       "  <tbody>\n",
       "    <tr>\n",
       "      <th>count</th>\n",
       "      <td>7043.0</td>\n",
       "      <td>7043.000000</td>\n",
       "      <td>7043.000000</td>\n",
       "      <td>7043.000000</td>\n",
       "      <td>7043.000000</td>\n",
       "      <td>7043.000000</td>\n",
       "      <td>7043.000000</td>\n",
       "      <td>7043.000000</td>\n",
       "      <td>7043.000000</td>\n",
       "      <td>7043.000000</td>\n",
       "    </tr>\n",
       "    <tr>\n",
       "      <th>mean</th>\n",
       "      <td>1.0</td>\n",
       "      <td>93521.964646</td>\n",
       "      <td>36.282441</td>\n",
       "      <td>-119.798880</td>\n",
       "      <td>32.371149</td>\n",
       "      <td>64.761692</td>\n",
       "      <td>2279.734304</td>\n",
       "      <td>0.265370</td>\n",
       "      <td>58.699418</td>\n",
       "      <td>4400.295755</td>\n",
       "    </tr>\n",
       "    <tr>\n",
       "      <th>std</th>\n",
       "      <td>0.0</td>\n",
       "      <td>1865.794555</td>\n",
       "      <td>2.455723</td>\n",
       "      <td>2.157889</td>\n",
       "      <td>24.559481</td>\n",
       "      <td>30.090047</td>\n",
       "      <td>2266.794470</td>\n",
       "      <td>0.441561</td>\n",
       "      <td>21.525131</td>\n",
       "      <td>1183.057152</td>\n",
       "    </tr>\n",
       "    <tr>\n",
       "      <th>min</th>\n",
       "      <td>1.0</td>\n",
       "      <td>90001.000000</td>\n",
       "      <td>32.555828</td>\n",
       "      <td>-124.301372</td>\n",
       "      <td>0.000000</td>\n",
       "      <td>18.250000</td>\n",
       "      <td>0.000000</td>\n",
       "      <td>0.000000</td>\n",
       "      <td>5.000000</td>\n",
       "      <td>2003.000000</td>\n",
       "    </tr>\n",
       "    <tr>\n",
       "      <th>25%</th>\n",
       "      <td>1.0</td>\n",
       "      <td>92102.000000</td>\n",
       "      <td>34.030915</td>\n",
       "      <td>-121.815412</td>\n",
       "      <td>9.000000</td>\n",
       "      <td>35.500000</td>\n",
       "      <td>398.550000</td>\n",
       "      <td>0.000000</td>\n",
       "      <td>40.000000</td>\n",
       "      <td>3469.000000</td>\n",
       "    </tr>\n",
       "    <tr>\n",
       "      <th>50%</th>\n",
       "      <td>1.0</td>\n",
       "      <td>93552.000000</td>\n",
       "      <td>36.391777</td>\n",
       "      <td>-119.730885</td>\n",
       "      <td>29.000000</td>\n",
       "      <td>70.350000</td>\n",
       "      <td>1394.550000</td>\n",
       "      <td>0.000000</td>\n",
       "      <td>61.000000</td>\n",
       "      <td>4527.000000</td>\n",
       "    </tr>\n",
       "    <tr>\n",
       "      <th>75%</th>\n",
       "      <td>1.0</td>\n",
       "      <td>95351.000000</td>\n",
       "      <td>38.224869</td>\n",
       "      <td>-118.043237</td>\n",
       "      <td>55.000000</td>\n",
       "      <td>89.850000</td>\n",
       "      <td>3786.600000</td>\n",
       "      <td>1.000000</td>\n",
       "      <td>75.000000</td>\n",
       "      <td>5380.500000</td>\n",
       "    </tr>\n",
       "    <tr>\n",
       "      <th>max</th>\n",
       "      <td>1.0</td>\n",
       "      <td>96161.000000</td>\n",
       "      <td>41.962127</td>\n",
       "      <td>-114.192901</td>\n",
       "      <td>72.000000</td>\n",
       "      <td>118.750000</td>\n",
       "      <td>8684.800000</td>\n",
       "      <td>1.000000</td>\n",
       "      <td>100.000000</td>\n",
       "      <td>6500.000000</td>\n",
       "    </tr>\n",
       "  </tbody>\n",
       "</table>\n",
       "</div>"
      ],
      "text/plain": [
       "        Count      Zip Code     Latitude    Longitude  Tenure Months  \\\n",
       "count  7043.0   7043.000000  7043.000000  7043.000000    7043.000000   \n",
       "mean      1.0  93521.964646    36.282441  -119.798880      32.371149   \n",
       "std       0.0   1865.794555     2.455723     2.157889      24.559481   \n",
       "min       1.0  90001.000000    32.555828  -124.301372       0.000000   \n",
       "25%       1.0  92102.000000    34.030915  -121.815412       9.000000   \n",
       "50%       1.0  93552.000000    36.391777  -119.730885      29.000000   \n",
       "75%       1.0  95351.000000    38.224869  -118.043237      55.000000   \n",
       "max       1.0  96161.000000    41.962127  -114.192901      72.000000   \n",
       "\n",
       "       Monthly Charges  Total Charges  Churn Value  Churn Score         CLTV  \n",
       "count      7043.000000    7043.000000  7043.000000  7043.000000  7043.000000  \n",
       "mean         64.761692    2279.734304     0.265370    58.699418  4400.295755  \n",
       "std          30.090047    2266.794470     0.441561    21.525131  1183.057152  \n",
       "min          18.250000       0.000000     0.000000     5.000000  2003.000000  \n",
       "25%          35.500000     398.550000     0.000000    40.000000  3469.000000  \n",
       "50%          70.350000    1394.550000     0.000000    61.000000  4527.000000  \n",
       "75%          89.850000    3786.600000     1.000000    75.000000  5380.500000  \n",
       "max         118.750000    8684.800000     1.000000   100.000000  6500.000000  "
      ]
     },
     "execution_count": 179,
     "metadata": {},
     "output_type": "execute_result"
    }
   ],
   "source": [
    "df.describe()"
   ]
  },
  {
   "cell_type": "code",
   "execution_count": 48,
   "id": "3d3f1ad3",
   "metadata": {},
   "outputs": [
    {
     "data": {
      "text/html": [
       "<div>\n",
       "<style scoped>\n",
       "    .dataframe tbody tr th:only-of-type {\n",
       "        vertical-align: middle;\n",
       "    }\n",
       "\n",
       "    .dataframe tbody tr th {\n",
       "        vertical-align: top;\n",
       "    }\n",
       "\n",
       "    .dataframe thead th {\n",
       "        text-align: right;\n",
       "    }\n",
       "</style>\n",
       "<table border=\"1\" class=\"dataframe\">\n",
       "  <thead>\n",
       "    <tr style=\"text-align: right;\">\n",
       "      <th></th>\n",
       "      <th>count</th>\n",
       "      <th>unique</th>\n",
       "      <th>top</th>\n",
       "      <th>freq</th>\n",
       "    </tr>\n",
       "  </thead>\n",
       "  <tbody>\n",
       "    <tr>\n",
       "      <th>CustomerID</th>\n",
       "      <td>7043</td>\n",
       "      <td>7043</td>\n",
       "      <td>3668-QPYBK</td>\n",
       "      <td>1</td>\n",
       "    </tr>\n",
       "    <tr>\n",
       "      <th>Country</th>\n",
       "      <td>7043</td>\n",
       "      <td>1</td>\n",
       "      <td>United States</td>\n",
       "      <td>7043</td>\n",
       "    </tr>\n",
       "    <tr>\n",
       "      <th>State</th>\n",
       "      <td>7043</td>\n",
       "      <td>1</td>\n",
       "      <td>California</td>\n",
       "      <td>7043</td>\n",
       "    </tr>\n",
       "    <tr>\n",
       "      <th>City</th>\n",
       "      <td>7043</td>\n",
       "      <td>1129</td>\n",
       "      <td>Los Angeles</td>\n",
       "      <td>305</td>\n",
       "    </tr>\n",
       "    <tr>\n",
       "      <th>Lat Long</th>\n",
       "      <td>7043</td>\n",
       "      <td>1652</td>\n",
       "      <td>33.964131, -118.272783</td>\n",
       "      <td>5</td>\n",
       "    </tr>\n",
       "    <tr>\n",
       "      <th>Gender</th>\n",
       "      <td>7043</td>\n",
       "      <td>2</td>\n",
       "      <td>Male</td>\n",
       "      <td>3555</td>\n",
       "    </tr>\n",
       "    <tr>\n",
       "      <th>Senior Citizen</th>\n",
       "      <td>7043</td>\n",
       "      <td>2</td>\n",
       "      <td>No</td>\n",
       "      <td>5901</td>\n",
       "    </tr>\n",
       "    <tr>\n",
       "      <th>Partner</th>\n",
       "      <td>7043</td>\n",
       "      <td>2</td>\n",
       "      <td>No</td>\n",
       "      <td>3641</td>\n",
       "    </tr>\n",
       "    <tr>\n",
       "      <th>Dependents</th>\n",
       "      <td>7043</td>\n",
       "      <td>2</td>\n",
       "      <td>No</td>\n",
       "      <td>5416</td>\n",
       "    </tr>\n",
       "    <tr>\n",
       "      <th>Phone Service</th>\n",
       "      <td>7043</td>\n",
       "      <td>2</td>\n",
       "      <td>Yes</td>\n",
       "      <td>6361</td>\n",
       "    </tr>\n",
       "    <tr>\n",
       "      <th>Multiple Lines</th>\n",
       "      <td>7043</td>\n",
       "      <td>3</td>\n",
       "      <td>No</td>\n",
       "      <td>3390</td>\n",
       "    </tr>\n",
       "    <tr>\n",
       "      <th>Internet Service</th>\n",
       "      <td>7043</td>\n",
       "      <td>3</td>\n",
       "      <td>Fiber optic</td>\n",
       "      <td>3096</td>\n",
       "    </tr>\n",
       "    <tr>\n",
       "      <th>Online Security</th>\n",
       "      <td>7043</td>\n",
       "      <td>3</td>\n",
       "      <td>No</td>\n",
       "      <td>3498</td>\n",
       "    </tr>\n",
       "    <tr>\n",
       "      <th>Online Backup</th>\n",
       "      <td>7043</td>\n",
       "      <td>3</td>\n",
       "      <td>No</td>\n",
       "      <td>3088</td>\n",
       "    </tr>\n",
       "    <tr>\n",
       "      <th>Device Protection</th>\n",
       "      <td>7043</td>\n",
       "      <td>3</td>\n",
       "      <td>No</td>\n",
       "      <td>3095</td>\n",
       "    </tr>\n",
       "    <tr>\n",
       "      <th>Tech Support</th>\n",
       "      <td>7043</td>\n",
       "      <td>3</td>\n",
       "      <td>No</td>\n",
       "      <td>3473</td>\n",
       "    </tr>\n",
       "    <tr>\n",
       "      <th>Streaming TV</th>\n",
       "      <td>7043</td>\n",
       "      <td>3</td>\n",
       "      <td>No</td>\n",
       "      <td>2810</td>\n",
       "    </tr>\n",
       "    <tr>\n",
       "      <th>Streaming Movies</th>\n",
       "      <td>7043</td>\n",
       "      <td>3</td>\n",
       "      <td>No</td>\n",
       "      <td>2785</td>\n",
       "    </tr>\n",
       "    <tr>\n",
       "      <th>Contract</th>\n",
       "      <td>7043</td>\n",
       "      <td>3</td>\n",
       "      <td>Month-to-month</td>\n",
       "      <td>3875</td>\n",
       "    </tr>\n",
       "    <tr>\n",
       "      <th>Paperless Billing</th>\n",
       "      <td>7043</td>\n",
       "      <td>2</td>\n",
       "      <td>Yes</td>\n",
       "      <td>4171</td>\n",
       "    </tr>\n",
       "    <tr>\n",
       "      <th>Payment Method</th>\n",
       "      <td>7043</td>\n",
       "      <td>4</td>\n",
       "      <td>Electronic check</td>\n",
       "      <td>2365</td>\n",
       "    </tr>\n",
       "    <tr>\n",
       "      <th>Churn Label</th>\n",
       "      <td>7043</td>\n",
       "      <td>2</td>\n",
       "      <td>No</td>\n",
       "      <td>5174</td>\n",
       "    </tr>\n",
       "    <tr>\n",
       "      <th>Churn Reason</th>\n",
       "      <td>1869</td>\n",
       "      <td>20</td>\n",
       "      <td>Attitude of support person</td>\n",
       "      <td>192</td>\n",
       "    </tr>\n",
       "  </tbody>\n",
       "</table>\n",
       "</div>"
      ],
      "text/plain": [
       "                  count unique                         top  freq\n",
       "CustomerID         7043   7043                  3668-QPYBK     1\n",
       "Country            7043      1               United States  7043\n",
       "State              7043      1                  California  7043\n",
       "City               7043   1129                 Los Angeles   305\n",
       "Lat Long           7043   1652      33.964131, -118.272783     5\n",
       "Gender             7043      2                        Male  3555\n",
       "Senior Citizen     7043      2                          No  5901\n",
       "Partner            7043      2                          No  3641\n",
       "Dependents         7043      2                          No  5416\n",
       "Phone Service      7043      2                         Yes  6361\n",
       "Multiple Lines     7043      3                          No  3390\n",
       "Internet Service   7043      3                 Fiber optic  3096\n",
       "Online Security    7043      3                          No  3498\n",
       "Online Backup      7043      3                          No  3088\n",
       "Device Protection  7043      3                          No  3095\n",
       "Tech Support       7043      3                          No  3473\n",
       "Streaming TV       7043      3                          No  2810\n",
       "Streaming Movies   7043      3                          No  2785\n",
       "Contract           7043      3              Month-to-month  3875\n",
       "Paperless Billing  7043      2                         Yes  4171\n",
       "Payment Method     7043      4            Electronic check  2365\n",
       "Churn Label        7043      2                          No  5174\n",
       "Churn Reason       1869     20  Attitude of support person   192"
      ]
     },
     "execution_count": 48,
     "metadata": {},
     "output_type": "execute_result"
    }
   ],
   "source": [
    "df.describe(exclude ='number').T"
   ]
  },
  {
   "cell_type": "markdown",
   "id": "6249391c",
   "metadata": {},
   "source": [
    "The first column that will not benefit our classification models is `Count` since it is just the count of each participant in the dataset. We also proceed to remove the `CustomerID` which is unique to each customer. We can also see that `Country`, `State` and `City` have just one category. The `Lat Long` is a replica of the `Lattiture` and `Longitude` columns. The `Churn Label` replicates our response variable `Churn Value`. The `Churn Score` column can potentially cause target leakage. We proceed to also eliminate the `Latitude`, `Longitude`, and `Zip Code` columns since almost each customer appear to be in different location. Lastly, we eliminate the `Churn Reason`. "
   ]
  },
  {
   "cell_type": "code",
   "execution_count": 94,
   "id": "6832c922",
   "metadata": {},
   "outputs": [],
   "source": [
    "df.drop(['CustomerID','Count', 'Country', 'State', 'City', 'Latitude', 'Longitude', 'Zip Code','Lat Long', 'Churn Label', 'Churn Reason', 'Churn Score'], axis=1, inplace=True)"
   ]
  },
  {
   "cell_type": "markdown",
   "id": "a44b1241",
   "metadata": {},
   "source": [
    "Haven eliminated the unnecessary columns, we dig deeper into the categorical features in the dataset. We want to ensure that the columns are properly coded for the category they represent"
   ]
  },
  {
   "cell_type": "code",
   "execution_count": 95,
   "id": "4e7b3ef3",
   "metadata": {},
   "outputs": [
    {
     "name": "stdout",
     "output_type": "stream",
     "text": [
      "Online Security - ['Yes' 'No' 'No internet service']\n",
      "\n",
      "Tech Support - ['No' 'Yes' 'No internet service']\n",
      "\n",
      "Device Protection - ['No' 'Yes' 'No internet service']\n",
      "\n",
      "Online Backup - ['Yes' 'No' 'No internet service']\n",
      "\n",
      "Streaming TV - ['No' 'Yes' 'No internet service']\n",
      "\n",
      "Streaming Movies - ['No' 'Yes' 'No internet service']\n",
      "\n",
      "Multiple Lines - ['No' 'Yes' 'No phone service']\n",
      "\n",
      "Internet Service - ['DSL' 'Fiber optic' 'No']\n",
      "\n",
      "Paperless Billing - ['Yes' 'No']\n",
      "\n",
      "Payment Method - ['Mailed check' 'Electronic check' 'Bank transfer (automatic)'\n",
      " 'Credit card (automatic)']\n",
      "\n",
      "Contract - ['Month-to-month' 'Two year' 'One year']\n",
      "\n"
     ]
    }
   ],
   "source": [
    "feature_columns = ['Online Security', 'Tech Support', 'Device Protection',\n",
    "                   'Online Backup', 'Streaming TV', 'Streaming Movies',\n",
    "                   'Multiple Lines', 'Internet Service', 'Paperless Billing',\n",
    "                   'Payment Method', 'Contract']\n",
    "\n",
    "def unique_values(columns):\n",
    "    for column in columns:\n",
    "        unique_values = df[column].unique()\n",
    "        print(f\"{column} - {unique_values}\\n\")\n",
    "\n",
    "unique_values(feature_columns)\n"
   ]
  },
  {
   "cell_type": "markdown",
   "id": "8b4a509e",
   "metadata": {},
   "source": [
    "We will observe that several columns have categories coded as 'No' and 'No internet service'. These two codings most definitely mean the same thing, there, we must recode the variables properly"
   ]
  },
  {
   "cell_type": "code",
   "execution_count": 96,
   "id": "c7c6cd56",
   "metadata": {},
   "outputs": [],
   "source": [
    "duplicate_category_columns = ['Tech Support', 'Streaming Movies', 'Online Backup', 'Device Protection', 'Streaming TV', 'Online Security']\n",
    "\n",
    "for column in duplicate_category_columns:\n",
    "    df[column].replace('No internet service', 'No', inplace=True)\n",
    "\n",
    "df['Multiple Lines'].replace('No phone service', 'No', inplace=True)\n"
   ]
  },
  {
   "cell_type": "code",
   "execution_count": 200,
   "id": "3f0be5d5",
   "metadata": {},
   "outputs": [],
   "source": [
    "df.to_excel('clean_data.xlsx', index=False)"
   ]
  },
  {
   "cell_type": "code",
   "execution_count": 10,
   "id": "ecd04f92",
   "metadata": {},
   "outputs": [
    {
     "data": {
      "text/plain": [
       "Index(['Gender', 'Senior Citizen', 'Partner', 'Dependents', 'Tenure Months',\n",
       "       'Phone Service', 'Multiple Lines', 'Internet Service',\n",
       "       'Online Security', 'Online Backup', 'Device Protection', 'Tech Support',\n",
       "       'Streaming TV', 'Streaming Movies', 'Contract', 'Paperless Billing',\n",
       "       'Payment Method', 'Monthly Charges', 'Total Charges', 'Churn Value',\n",
       "       'CLTV'],\n",
       "      dtype='object')"
      ]
     },
     "execution_count": 10,
     "metadata": {},
     "output_type": "execute_result"
    }
   ],
   "source": [
    "df.columns"
   ]
  },
  {
   "cell_type": "markdown",
   "id": "dcb80aaf",
   "metadata": {},
   "source": [
    "Now that we have a clean data, we export it to Tableau for visualization and set it up for modelling. But first, we need to establish the balance of the data."
   ]
  },
  {
   "cell_type": "code",
   "execution_count": 97,
   "id": "bc390a3b",
   "metadata": {},
   "outputs": [
    {
     "name": "stdout",
     "output_type": "stream",
     "text": [
      "Gender: ['Male' 'Female']\n",
      "Senior Citizen: ['No' 'Yes']\n",
      "Partner: ['No' 'Yes']\n",
      "Dependents: ['No' 'Yes']\n",
      "Phone Service: ['Yes' 'No']\n",
      "Multiple Lines: ['No' 'Yes']\n",
      "Internet Service: ['DSL' 'Fiber optic' 'No']\n",
      "Online Security: ['Yes' 'No']\n",
      "Online Backup: ['Yes' 'No']\n",
      "Device Protection: ['No' 'Yes']\n",
      "Tech Support: ['No' 'Yes']\n",
      "Streaming TV: ['No' 'Yes']\n",
      "Streaming Movies: ['No' 'Yes']\n",
      "Contract: ['Month-to-month' 'Two year' 'One year']\n",
      "Paperless Billing: ['Yes' 'No']\n",
      "Payment Method: ['Mailed check' 'Electronic check' 'Bank transfer (automatic)'\n",
      " 'Credit card (automatic)']\n"
     ]
    }
   ],
   "source": [
    "categorical_variables = [\n",
    "    'Gender', 'Senior Citizen', 'Partner', 'Dependents', 'Phone Service', \n",
    "    'Multiple Lines', 'Internet Service', 'Online Security', 'Online Backup', \n",
    "    'Device Protection', 'Tech Support', 'Streaming TV', 'Streaming Movies', \n",
    "    'Contract', 'Paperless Billing', 'Payment Method'\n",
    "]\n",
    "\n",
    "for variable in categorical_variables:\n",
    "    unique_categories = df[variable].unique()\n",
    "    print(f\"{variable}: {unique_categories}\")\n"
   ]
  },
  {
   "cell_type": "code",
   "execution_count": 98,
   "id": "b78af3e8",
   "metadata": {},
   "outputs": [
    {
     "data": {
      "text/plain": [
       "<Axes: xlabel='Churn Value', ylabel='count'>"
      ]
     },
     "execution_count": 98,
     "metadata": {},
     "output_type": "execute_result"
    },
    {
     "data": {
      "image/png": "[encoded data removed]",
      "text/plain": [
       "<Figure size 640x480 with 1 Axes>"
      ]
     },
     "metadata": {},
     "output_type": "display_data"
    }
   ],
   "source": [
    "sns.countplot(x=df['Churn Value'])"
   ]
  },
  {
   "cell_type": "markdown",
   "id": "df131539",
   "metadata": {},
   "source": [
    "From the above bar plot, we can observe that the data set is unbalanced. the churn value 0 has a much higher count than the churn value 1, indicating that larger number of customers did not churned the telecom company. With this knowledge, we can apply appropriate oversampling technique before building our models"
   ]
  },
  {
   "cell_type": "markdown",
   "id": "03058df3",
   "metadata": {},
   "source": [
    "# Machine Learning Models"
   ]
  },
  {
   "cell_type": "markdown",
   "id": "2a49bdd0",
   "metadata": {},
   "source": [
    "In building a suitable model for our case study, we explore four different machine learning models:\n",
    "### Logistic Regression\n",
    "### Decision Tree\n",
    "### Xgboost\n",
    "### Random Forest"
   ]
  },
  {
   "cell_type": "markdown",
   "id": "15dcd574",
   "metadata": {},
   "source": [
    "We first proceed to encode all variables separately in order to allow them pass through our models, and also use each variable as inputs in the web application"
   ]
  },
  {
   "cell_type": "code",
   "execution_count": 99,
   "id": "acd5ca1a",
   "metadata": {},
   "outputs": [],
   "source": [
    "le_gender = LabelEncoder()\n",
    "le_senior_citizen = LabelEncoder() \n",
    "le_partner = LabelEncoder()\n",
    "le_dependents = LabelEncoder()\n",
    "le_phone_service = LabelEncoder()\n",
    "le_multiple_lines = LabelEncoder()\n",
    "le_internet_service = LabelEncoder()\n",
    "le_online_security = LabelEncoder()\n",
    "le_online_backup = LabelEncoder()\n",
    "le_device_protection = LabelEncoder()\n",
    "le_tech_support = LabelEncoder()\n",
    "le_streaming_tv = LabelEncoder()\n",
    "le_streaming_movies = LabelEncoder()\n",
    "le_contract = LabelEncoder()\n",
    "le_paperless_billing = LabelEncoder()\n",
    "le_payment_method = LabelEncoder()\n",
    "\n",
    "\n",
    "# Encoding and scaling process for each column\n",
    "df['Gender'] = le_gender.fit_transform(df['Gender'])\n",
    "df['Senior Citizen'] = le_senior_citizen.fit_transform(df['Senior Citizen'])\n",
    "df['Partner'] = le_partner.fit_transform(df['Partner'])\n",
    "df['Dependents'] = le_dependents.fit_transform(df['Dependents'])\n",
    "df['Phone Service'] = le_phone_service.fit_transform(df['Phone Service'])\n",
    "df['Multiple Lines'] = le_multiple_lines.fit_transform(df['Multiple Lines'])\n",
    "df['Internet Service'] = le_internet_service.fit_transform(df['Internet Service'])\n",
    "df['Online Security'] = le_online_security.fit_transform(df['Online Security'])\n",
    "df['Online Backup'] = le_online_backup.fit_transform(df['Online Backup'])\n",
    "df['Device Protection'] = le_device_protection.fit_transform(df['Device Protection'])\n",
    "df['Tech Support'] = le_tech_support.fit_transform(df['Tech Support'])\n",
    "df['Streaming TV'] = le_streaming_tv.fit_transform(df['Streaming TV'])\n",
    "df['Streaming Movies'] = le_streaming_movies.fit_transform(df['Streaming Movies'])\n",
    "df['Contract'] = le_contract.fit_transform(df['Contract'])\n",
    "df['Paperless Billing'] = le_paperless_billing.fit_transform(df['Paperless Billing'])\n",
    "df['Payment Method'] = le_payment_method.fit_transform(df['Payment Method'])\n"
   ]
  },
  {
   "cell_type": "code",
   "execution_count": 58,
   "id": "851554d6",
   "metadata": {},
   "outputs": [
    {
     "data": {
      "text/html": [
       "<div>\n",
       "<style scoped>\n",
       "    .dataframe tbody tr th:only-of-type {\n",
       "        vertical-align: middle;\n",
       "    }\n",
       "\n",
       "    .dataframe tbody tr th {\n",
       "        vertical-align: top;\n",
       "    }\n",
       "\n",
       "    .dataframe thead th {\n",
       "        text-align: right;\n",
       "    }\n",
       "</style>\n",
       "<table border=\"1\" class=\"dataframe\">\n",
       "  <thead>\n",
       "    <tr style=\"text-align: right;\">\n",
       "      <th></th>\n",
       "      <th>Gender</th>\n",
       "      <th>Senior Citizen</th>\n",
       "      <th>Partner</th>\n",
       "      <th>Dependents</th>\n",
       "      <th>Tenure Months</th>\n",
       "      <th>Phone Service</th>\n",
       "      <th>Multiple Lines</th>\n",
       "      <th>Internet Service</th>\n",
       "      <th>Online Security</th>\n",
       "      <th>Online Backup</th>\n",
       "      <th>...</th>\n",
       "      <th>Tech Support</th>\n",
       "      <th>Streaming TV</th>\n",
       "      <th>Streaming Movies</th>\n",
       "      <th>Contract</th>\n",
       "      <th>Paperless Billing</th>\n",
       "      <th>Payment Method</th>\n",
       "      <th>Monthly Charges</th>\n",
       "      <th>Total Charges</th>\n",
       "      <th>Churn Value</th>\n",
       "      <th>CLTV</th>\n",
       "    </tr>\n",
       "  </thead>\n",
       "  <tbody>\n",
       "    <tr>\n",
       "      <th>0</th>\n",
       "      <td>1</td>\n",
       "      <td>0</td>\n",
       "      <td>0</td>\n",
       "      <td>0</td>\n",
       "      <td>2</td>\n",
       "      <td>1</td>\n",
       "      <td>0</td>\n",
       "      <td>0</td>\n",
       "      <td>1</td>\n",
       "      <td>1</td>\n",
       "      <td>...</td>\n",
       "      <td>0</td>\n",
       "      <td>0</td>\n",
       "      <td>0</td>\n",
       "      <td>0</td>\n",
       "      <td>1</td>\n",
       "      <td>3</td>\n",
       "      <td>53.85</td>\n",
       "      <td>108.15</td>\n",
       "      <td>1</td>\n",
       "      <td>3239</td>\n",
       "    </tr>\n",
       "    <tr>\n",
       "      <th>1</th>\n",
       "      <td>0</td>\n",
       "      <td>0</td>\n",
       "      <td>0</td>\n",
       "      <td>1</td>\n",
       "      <td>2</td>\n",
       "      <td>1</td>\n",
       "      <td>0</td>\n",
       "      <td>1</td>\n",
       "      <td>0</td>\n",
       "      <td>0</td>\n",
       "      <td>...</td>\n",
       "      <td>0</td>\n",
       "      <td>0</td>\n",
       "      <td>0</td>\n",
       "      <td>0</td>\n",
       "      <td>1</td>\n",
       "      <td>2</td>\n",
       "      <td>70.70</td>\n",
       "      <td>151.65</td>\n",
       "      <td>1</td>\n",
       "      <td>2701</td>\n",
       "    </tr>\n",
       "    <tr>\n",
       "      <th>2</th>\n",
       "      <td>0</td>\n",
       "      <td>0</td>\n",
       "      <td>0</td>\n",
       "      <td>1</td>\n",
       "      <td>8</td>\n",
       "      <td>1</td>\n",
       "      <td>1</td>\n",
       "      <td>1</td>\n",
       "      <td>0</td>\n",
       "      <td>0</td>\n",
       "      <td>...</td>\n",
       "      <td>0</td>\n",
       "      <td>1</td>\n",
       "      <td>1</td>\n",
       "      <td>0</td>\n",
       "      <td>1</td>\n",
       "      <td>2</td>\n",
       "      <td>99.65</td>\n",
       "      <td>820.50</td>\n",
       "      <td>1</td>\n",
       "      <td>5372</td>\n",
       "    </tr>\n",
       "    <tr>\n",
       "      <th>3</th>\n",
       "      <td>0</td>\n",
       "      <td>0</td>\n",
       "      <td>1</td>\n",
       "      <td>1</td>\n",
       "      <td>28</td>\n",
       "      <td>1</td>\n",
       "      <td>1</td>\n",
       "      <td>1</td>\n",
       "      <td>0</td>\n",
       "      <td>0</td>\n",
       "      <td>...</td>\n",
       "      <td>1</td>\n",
       "      <td>1</td>\n",
       "      <td>1</td>\n",
       "      <td>0</td>\n",
       "      <td>1</td>\n",
       "      <td>2</td>\n",
       "      <td>104.80</td>\n",
       "      <td>3046.05</td>\n",
       "      <td>1</td>\n",
       "      <td>5003</td>\n",
       "    </tr>\n",
       "    <tr>\n",
       "      <th>4</th>\n",
       "      <td>1</td>\n",
       "      <td>0</td>\n",
       "      <td>0</td>\n",
       "      <td>1</td>\n",
       "      <td>49</td>\n",
       "      <td>1</td>\n",
       "      <td>1</td>\n",
       "      <td>1</td>\n",
       "      <td>0</td>\n",
       "      <td>1</td>\n",
       "      <td>...</td>\n",
       "      <td>0</td>\n",
       "      <td>1</td>\n",
       "      <td>1</td>\n",
       "      <td>0</td>\n",
       "      <td>1</td>\n",
       "      <td>0</td>\n",
       "      <td>103.70</td>\n",
       "      <td>5036.30</td>\n",
       "      <td>1</td>\n",
       "      <td>5340</td>\n",
       "    </tr>\n",
       "  </tbody>\n",
       "</table>\n",
       "<p>5 rows × 21 columns</p>\n",
       "</div>"
      ],
      "text/plain": [
       "   Gender  Senior Citizen  Partner  Dependents  Tenure Months  Phone Service  \\\n",
       "0       1               0        0           0              2              1   \n",
       "1       0               0        0           1              2              1   \n",
       "2       0               0        0           1              8              1   \n",
       "3       0               0        1           1             28              1   \n",
       "4       1               0        0           1             49              1   \n",
       "\n",
       "   Multiple Lines  Internet Service  Online Security  Online Backup  ...  \\\n",
       "0               0                 0                1              1  ...   \n",
       "1               0                 1                0              0  ...   \n",
       "2               1                 1                0              0  ...   \n",
       "3               1                 1                0              0  ...   \n",
       "4               1                 1                0              1  ...   \n",
       "\n",
       "   Tech Support  Streaming TV  Streaming Movies  Contract  Paperless Billing  \\\n",
       "0             0             0                 0         0                  1   \n",
       "1             0             0                 0         0                  1   \n",
       "2             0             1                 1         0                  1   \n",
       "3             1             1                 1         0                  1   \n",
       "4             0             1                 1         0                  1   \n",
       "\n",
       "   Payment Method  Monthly Charges  Total Charges  Churn Value  CLTV  \n",
       "0               3            53.85         108.15            1  3239  \n",
       "1               2            70.70         151.65            1  2701  \n",
       "2               2            99.65         820.50            1  5372  \n",
       "3               2           104.80        3046.05            1  5003  \n",
       "4               0           103.70        5036.30            1  5340  \n",
       "\n",
       "[5 rows x 21 columns]"
      ]
     },
     "execution_count": 58,
     "metadata": {},
     "output_type": "execute_result"
    }
   ],
   "source": [
    "df.head()"
   ]
  },
  {
   "cell_type": "markdown",
   "id": "3e8f6efc",
   "metadata": {},
   "source": [
    "We will go ahead and create our training and testing sets and apply necessary oversampling on the training dataset"
   ]
  },
  {
   "cell_type": "code",
   "execution_count": 160,
   "id": "a3efecb3",
   "metadata": {},
   "outputs": [],
   "source": [
    "X = df.drop(['Churn Value'], axis=1) \n",
    "y = df['Churn Value']"
   ]
  },
  {
   "cell_type": "code",
   "execution_count": 161,
   "id": "72e03dc6",
   "metadata": {},
   "outputs": [],
   "source": [
    "over = SMOTE(sampling_strategy = 1)"
   ]
  },
  {
   "cell_type": "code",
   "execution_count": 162,
   "id": "3de9ef9f",
   "metadata": {},
   "outputs": [],
   "source": [
    "X,y = over.fit_resample(X,y)"
   ]
  },
  {
   "cell_type": "code",
   "execution_count": 163,
   "id": "42a2c049",
   "metadata": {},
   "outputs": [],
   "source": [
    "X_train, X_test, y_train, y_test = train_test_split(X, y, random_state =2, test_size = 0.2)"
   ]
  },
  {
   "cell_type": "markdown",
   "id": "3bce79cc",
   "metadata": {},
   "source": [
    "## Logistic Regression"
   ]
  },
  {
   "cell_type": "code",
   "execution_count": 164,
   "id": "88f88912",
   "metadata": {},
   "outputs": [
    {
     "name": "stdout",
     "output_type": "stream",
     "text": [
      "Accuracy: 0.83\n",
      "\n",
      "Classification Report:\n",
      "              precision    recall  f1-score   support\n",
      "\n",
      "           0       0.87      0.77      0.82      1049\n",
      "           1       0.79      0.89      0.83      1021\n",
      "\n",
      "    accuracy                           0.83      2070\n",
      "   macro avg       0.83      0.83      0.83      2070\n",
      "weighted avg       0.83      0.83      0.83      2070\n",
      "\n",
      "\n",
      "Confusion Matrix:\n",
      "[[804 245]\n",
      " [116 905]]\n"
     ]
    }
   ],
   "source": [
    "logistic_model = LogisticRegression()\n",
    "logistic_model.fit(X_train, y_train)\n",
    "\n",
    "logistic_predictions = logistic_model.predict(X_test)\n",
    "\n",
    "accuracy = accuracy_score(y_test, logistic_predictions)\n",
    "print(f\"Accuracy: {accuracy:.2f}\")\n",
    "print()\n",
    "\n",
    "class_report = classification_report(y_test, logistic_predictions)\n",
    "print(\"Classification Report:\")\n",
    "print(class_report)\n",
    "print()\n",
    "\n",
    "conf_matrix = confusion_matrix(y_test, logistic_predictions)\n",
    "print(\"Confusion Matrix:\")\n",
    "print(conf_matrix)"
   ]
  },
  {
   "cell_type": "markdown",
   "id": "8f1c0b1e",
   "metadata": {},
   "source": [
    "## Decision Tree"
   ]
  },
  {
   "cell_type": "code",
   "execution_count": 165,
   "id": "d725f472",
   "metadata": {},
   "outputs": [
    {
     "name": "stdout",
     "output_type": "stream",
     "text": [
      "Accuracy: 0.80\n",
      "\n",
      "              precision    recall  f1-score   support\n",
      "\n",
      "           0       0.82      0.77      0.79      1049\n",
      "           1       0.78      0.82      0.80      1021\n",
      "\n",
      "    accuracy                           0.80      2070\n",
      "   macro avg       0.80      0.80      0.80      2070\n",
      "weighted avg       0.80      0.80      0.80      2070\n",
      "\n",
      "\n",
      "Confusion Matrix:\n",
      "[[807 242]\n",
      " [179 842]]\n"
     ]
    }
   ],
   "source": [
    "dt_classifier = DecisionTreeClassifier()\n",
    "dt_classifier.fit(X_train, y_train)\n",
    "\n",
    "dt_predictions = dt_classifier.predict(X_test)\n",
    "\n",
    "print(f\"Accuracy: {accuracy_score(y_test, dt_predictions):.2f}\\n\")\n",
    "print(classification_report(y_test, dt_predictions))\n",
    "print(\"\\nConfusion Matrix:\")\n",
    "print(confusion_matrix(y_test, dt_predictions))"
   ]
  },
  {
   "cell_type": "markdown",
   "id": "4cb86a09",
   "metadata": {},
   "source": [
    "## XGBoost"
   ]
  },
  {
   "cell_type": "code",
   "execution_count": 166,
   "id": "80ca1e39",
   "metadata": {},
   "outputs": [
    {
     "name": "stdout",
     "output_type": "stream",
     "text": [
      "Accuracy: 0.84\n",
      "\n",
      "              precision    recall  f1-score   support\n",
      "\n",
      "           0       0.88      0.79      0.83      1049\n",
      "           1       0.80      0.88      0.84      1021\n",
      "\n",
      "    accuracy                           0.84      2070\n",
      "   macro avg       0.84      0.84      0.84      2070\n",
      "weighted avg       0.84      0.84      0.83      2070\n",
      "\n",
      "\n",
      "Confusion Matrix:\n",
      "[[826 223]\n",
      " [118 903]]\n"
     ]
    }
   ],
   "source": [
    "xgb_model = XGBClassifier(learning_rate= 0.01,max_depth = 3,n_estimators = 1000)\n",
    "xgb_model.fit(X_train, y_train)\n",
    "\n",
    "xgb_predictions = xgb_model.predict(X_test)\n",
    "\n",
    "print(f\"Accuracy: {accuracy_score(y_test, xgb_predictions):.2f}\\n\")\n",
    "print(classification_report(y_test, xgb_predictions))\n",
    "print(\"\\nConfusion Matrix:\")\n",
    "print(confusion_matrix(y_test, xgb_predictions))\n"
   ]
  },
  {
   "cell_type": "markdown",
   "id": "98bf5f34",
   "metadata": {},
   "source": [
    "## Random Forest"
   ]
  },
  {
   "cell_type": "code",
   "execution_count": 167,
   "id": "4ca9eb1c",
   "metadata": {},
   "outputs": [
    {
     "name": "stdout",
     "output_type": "stream",
     "text": [
      "Accuracy: 0.86\n",
      "\n",
      "              precision    recall  f1-score   support\n",
      "\n",
      "           0       0.88      0.83      0.85      1049\n",
      "           1       0.83      0.88      0.86      1021\n",
      "\n",
      "    accuracy                           0.86      2070\n",
      "   macro avg       0.86      0.86      0.86      2070\n",
      "weighted avg       0.86      0.86      0.86      2070\n",
      "\n",
      "\n",
      "Confusion Matrix:\n",
      "[[871 178]\n",
      " [122 899]]\n"
     ]
    }
   ],
   "source": [
    "random_forest_model = RandomForestClassifier(n_estimators=100)\n",
    "random_forest_model.fit(X_train, y_train)\n",
    "\n",
    "random_forest_predictions = random_forest_model.predict(X_test)\n",
    "\n",
    "print(f\"Accuracy: {accuracy_score(y_test, random_forest_predictions):.2f}\\n\")\n",
    "print(classification_report(y_test, random_forest_predictions))\n",
    "print(\"\\nConfusion Matrix:\")\n",
    "print(confusion_matrix(y_test, random_forest_predictions))\n"
   ]
  },
  {
   "cell_type": "markdown",
   "id": "59c00fdb",
   "metadata": {},
   "source": [
    "## Grid Search for the Random Forest"
   ]
  },
  {
   "cell_type": "markdown",
   "id": "c3de78c1",
   "metadata": {},
   "source": [
    "We can see that the `Random Forest` is the best performing model among the four model. We will go ahead and perform a Grid Search for the best values to tune the hyperparameters."
   ]
  },
  {
   "cell_type": "code",
   "execution_count": 118,
   "id": "c83dfe2f",
   "metadata": {},
   "outputs": [
    {
     "name": "stdout",
     "output_type": "stream",
     "text": [
      "Best Score: 0.8576323187877144 and Best Params: {'max_depth': 16, 'n_estimators': 400}\n"
     ]
    }
   ],
   "source": [
    "from sklearn.ensemble import RandomForestClassifier\n",
    "from sklearn.model_selection import GridSearchCV\n",
    "\n",
    "rf_model = RandomForestClassifier(random_state=20)\n",
    "rf_estimators = [100, 200, 300, 400, 500]\n",
    "rf_max_depth = [10, 12, 14, 16, 18, 20]\n",
    "rf_param_grid = {'n_estimators': rf_estimators, 'max_depth': rf_max_depth}\n",
    "rf_grid_search = GridSearchCV(rf_model, rf_param_grid, scoring='f1', n_jobs=-1, cv=skf)\n",
    "rf_grid_result = rf_grid_search.fit(X_train, y_train)\n",
    "\n",
    "print(f'Best Score: {rf_grid_result.best_score_} and Best Params: {rf_grid_result.best_params_}')\n"
   ]
  },
  {
   "cell_type": "markdown",
   "id": "bb56f2f1",
   "metadata": {},
   "source": [
    "Now, we retrain the `Random Forest` using the Best Parameters"
   ]
  },
  {
   "cell_type": "markdown",
   "id": "00d67e8b",
   "metadata": {},
   "source": [
    "## Retrainng the Random Forest"
   ]
  },
  {
   "cell_type": "code",
   "execution_count": 168,
   "id": "f1c3eb6d",
   "metadata": {},
   "outputs": [
    {
     "name": "stdout",
     "output_type": "stream",
     "text": [
      "Accuracy: 0.86\n",
      "\n",
      "Classification Report:\n",
      "              precision    recall  f1-score   support\n",
      "\n",
      "           0       0.89      0.81      0.85      1049\n",
      "           1       0.82      0.90      0.86      1021\n",
      "\n",
      "    accuracy                           0.86      2070\n",
      "   macro avg       0.86      0.86      0.85      2070\n",
      "weighted avg       0.86      0.86      0.85      2070\n",
      "\n",
      "\n"
     ]
    }
   ],
   "source": [
    "\n",
    "best_max_depth = 16\n",
    "best_n_estimators = 400\n",
    "\n",
    "best_random_forest_model = RandomForestClassifier(max_depth=best_max_depth, n_estimators=best_n_estimators, random_state=20)\n",
    "best_random_forest_model.fit(X_train, y_train)\n",
    "\n",
    "best_random_forest_predictions = best_random_forest_model.predict(X_test)\n",
    "\n",
    "accuracy = accuracy_score(y_test, best_random_forest_predictions)\n",
    "print(f\"Accuracy: {accuracy:.2f}\\n\")\n",
    "\n",
    "class_report = classification_report(y_test, best_random_forest_predictions)\n",
    "print(\"Classification Report:\")\n",
    "print(class_report)\n",
    "print()"
   ]
  },
  {
   "cell_type": "markdown",
   "id": "26c95039",
   "metadata": {},
   "source": [
    "## Feature Importance"
   ]
  },
  {
   "cell_type": "code",
   "execution_count": 169,
   "id": "cbce65f6",
   "metadata": {},
   "outputs": [
    {
     "data": {
      "image/png": "[encoded data removed]",
      "text/plain": [
       "<Figure size 1000x600 with 1 Axes>"
      ]
     },
     "metadata": {},
     "output_type": "display_data"
    }
   ],
   "source": [
    "feature_importances = best_random_forest_model.feature_importances_\n",
    "\n",
    "feature_names = X_train.columns\n",
    "\n",
    "sorted_idx = np.argsort(feature_importances)[::-1]\n",
    "\n",
    "plt.figure(figsize=(10, 6))\n",
    "plt.bar(range(X_train.shape[1]), feature_importances[sorted_idx])\n",
    "plt.xticks(range(X_train.shape[1]), np.array(feature_names)[sorted_idx], rotation=90)\n",
    "plt.xlabel('Features')\n",
    "plt.ylabel('Feature Importance')\n",
    "plt.title('Random Forest Feature Importances')\n",
    "plt.tight_layout()\n",
    "plt.show()"
   ]
  },
  {
   "cell_type": "markdown",
   "id": "35a9ef9d",
   "metadata": {},
   "source": [
    "## Confusion Matrix for Predictions"
   ]
  },
  {
   "cell_type": "code",
   "execution_count": 170,
   "id": "020da098",
   "metadata": {},
   "outputs": [
    {
     "data": {
      "text/plain": [
       "<sklearn.metrics._plot.confusion_matrix.ConfusionMatrixDisplay at 0x15155b650>"
      ]
     },
     "execution_count": 170,
     "metadata": {},
     "output_type": "execute_result"
    },
    {
     "data": {
      "image/png": "[encoded data removed]",
      "text/plain": [
       "<Figure size 640x480 with 1 Axes>"
      ]
     },
     "metadata": {},
     "output_type": "display_data"
    }
   ],
   "source": [
    "ConfusionMatrixDisplay.from_predictions(y_test, best_random_forest_predictions, colorbar=False, cmap='crest')"
   ]
  },
  {
   "cell_type": "markdown",
   "id": "125ff4e0",
   "metadata": {},
   "source": [
    "## Making a prediction with one data array"
   ]
  },
  {
   "cell_type": "code",
   "execution_count": 174,
   "id": "427ab1be",
   "metadata": {},
   "outputs": [
    {
     "data": {
      "text/html": [
       "<div>\n",
       "<style scoped>\n",
       "    .dataframe tbody tr th:only-of-type {\n",
       "        vertical-align: middle;\n",
       "    }\n",
       "\n",
       "    .dataframe tbody tr th {\n",
       "        vertical-align: top;\n",
       "    }\n",
       "\n",
       "    .dataframe thead th {\n",
       "        text-align: right;\n",
       "    }\n",
       "</style>\n",
       "<table border=\"1\" class=\"dataframe\">\n",
       "  <thead>\n",
       "    <tr style=\"text-align: right;\">\n",
       "      <th></th>\n",
       "      <th>Gender</th>\n",
       "      <th>Senior Citizen</th>\n",
       "      <th>Partner</th>\n",
       "      <th>Dependents</th>\n",
       "      <th>Tenure Months</th>\n",
       "      <th>Phone Service</th>\n",
       "      <th>Multiple Lines</th>\n",
       "      <th>Internet Service</th>\n",
       "      <th>Online Security</th>\n",
       "      <th>Online Backup</th>\n",
       "      <th>Device Protection</th>\n",
       "      <th>Tech Support</th>\n",
       "      <th>Streaming TV</th>\n",
       "      <th>Streaming Movies</th>\n",
       "      <th>Contract</th>\n",
       "      <th>Paperless Billing</th>\n",
       "      <th>Payment Method</th>\n",
       "      <th>Monthly Charges</th>\n",
       "      <th>Total Charges</th>\n",
       "      <th>CLTV</th>\n",
       "    </tr>\n",
       "  </thead>\n",
       "  <tbody>\n",
       "    <tr>\n",
       "      <th>0</th>\n",
       "      <td>1</td>\n",
       "      <td>0</td>\n",
       "      <td>0</td>\n",
       "      <td>0</td>\n",
       "      <td>2</td>\n",
       "      <td>1</td>\n",
       "      <td>0</td>\n",
       "      <td>0</td>\n",
       "      <td>1</td>\n",
       "      <td>1</td>\n",
       "      <td>0</td>\n",
       "      <td>0</td>\n",
       "      <td>0</td>\n",
       "      <td>0</td>\n",
       "      <td>0</td>\n",
       "      <td>1</td>\n",
       "      <td>3</td>\n",
       "      <td>53.85</td>\n",
       "      <td>108.15</td>\n",
       "      <td>3239</td>\n",
       "    </tr>\n",
       "    <tr>\n",
       "      <th>1</th>\n",
       "      <td>0</td>\n",
       "      <td>0</td>\n",
       "      <td>0</td>\n",
       "      <td>1</td>\n",
       "      <td>2</td>\n",
       "      <td>1</td>\n",
       "      <td>0</td>\n",
       "      <td>1</td>\n",
       "      <td>0</td>\n",
       "      <td>0</td>\n",
       "      <td>0</td>\n",
       "      <td>0</td>\n",
       "      <td>0</td>\n",
       "      <td>0</td>\n",
       "      <td>0</td>\n",
       "      <td>1</td>\n",
       "      <td>2</td>\n",
       "      <td>70.70</td>\n",
       "      <td>151.65</td>\n",
       "      <td>2701</td>\n",
       "    </tr>\n",
       "    <tr>\n",
       "      <th>2</th>\n",
       "      <td>0</td>\n",
       "      <td>0</td>\n",
       "      <td>0</td>\n",
       "      <td>1</td>\n",
       "      <td>8</td>\n",
       "      <td>1</td>\n",
       "      <td>1</td>\n",
       "      <td>1</td>\n",
       "      <td>0</td>\n",
       "      <td>0</td>\n",
       "      <td>1</td>\n",
       "      <td>0</td>\n",
       "      <td>1</td>\n",
       "      <td>1</td>\n",
       "      <td>0</td>\n",
       "      <td>1</td>\n",
       "      <td>2</td>\n",
       "      <td>99.65</td>\n",
       "      <td>820.50</td>\n",
       "      <td>5372</td>\n",
       "    </tr>\n",
       "    <tr>\n",
       "      <th>3</th>\n",
       "      <td>0</td>\n",
       "      <td>0</td>\n",
       "      <td>1</td>\n",
       "      <td>1</td>\n",
       "      <td>28</td>\n",
       "      <td>1</td>\n",
       "      <td>1</td>\n",
       "      <td>1</td>\n",
       "      <td>0</td>\n",
       "      <td>0</td>\n",
       "      <td>1</td>\n",
       "      <td>1</td>\n",
       "      <td>1</td>\n",
       "      <td>1</td>\n",
       "      <td>0</td>\n",
       "      <td>1</td>\n",
       "      <td>2</td>\n",
       "      <td>104.80</td>\n",
       "      <td>3046.05</td>\n",
       "      <td>5003</td>\n",
       "    </tr>\n",
       "    <tr>\n",
       "      <th>4</th>\n",
       "      <td>1</td>\n",
       "      <td>0</td>\n",
       "      <td>0</td>\n",
       "      <td>1</td>\n",
       "      <td>49</td>\n",
       "      <td>1</td>\n",
       "      <td>1</td>\n",
       "      <td>1</td>\n",
       "      <td>0</td>\n",
       "      <td>1</td>\n",
       "      <td>1</td>\n",
       "      <td>0</td>\n",
       "      <td>1</td>\n",
       "      <td>1</td>\n",
       "      <td>0</td>\n",
       "      <td>1</td>\n",
       "      <td>0</td>\n",
       "      <td>103.70</td>\n",
       "      <td>5036.30</td>\n",
       "      <td>5340</td>\n",
       "    </tr>\n",
       "  </tbody>\n",
       "</table>\n",
       "</div>"
      ],
      "text/plain": [
       "   Gender  Senior Citizen  Partner  Dependents  Tenure Months  Phone Service  \\\n",
       "0       1               0        0           0              2              1   \n",
       "1       0               0        0           1              2              1   \n",
       "2       0               0        0           1              8              1   \n",
       "3       0               0        1           1             28              1   \n",
       "4       1               0        0           1             49              1   \n",
       "\n",
       "   Multiple Lines  Internet Service  Online Security  Online Backup  \\\n",
       "0               0                 0                1              1   \n",
       "1               0                 1                0              0   \n",
       "2               1                 1                0              0   \n",
       "3               1                 1                0              0   \n",
       "4               1                 1                0              1   \n",
       "\n",
       "   Device Protection  Tech Support  Streaming TV  Streaming Movies  Contract  \\\n",
       "0                  0             0             0                 0         0   \n",
       "1                  0             0             0                 0         0   \n",
       "2                  1             0             1                 1         0   \n",
       "3                  1             1             1                 1         0   \n",
       "4                  1             0             1                 1         0   \n",
       "\n",
       "   Paperless Billing  Payment Method  Monthly Charges  Total Charges  CLTV  \n",
       "0                  1               3            53.85         108.15  3239  \n",
       "1                  1               2            70.70         151.65  2701  \n",
       "2                  1               2            99.65         820.50  5372  \n",
       "3                  1               2           104.80        3046.05  5003  \n",
       "4                  1               0           103.70        5036.30  5340  "
      ]
     },
     "execution_count": 174,
     "metadata": {},
     "output_type": "execute_result"
    }
   ],
   "source": [
    "X.head()"
   ]
  },
  {
   "cell_type": "code",
   "execution_count": 175,
   "id": "53431da2",
   "metadata": {},
   "outputs": [
    {
     "data": {
      "text/plain": [
       "array([['Female', 'Yes', 'Yes', 'No', '12', 'No', 'No', 'DSL', 'No',\n",
       "        'No', 'No', 'Yes', 'No', 'No', 'Month-to-month', 'Yes',\n",
       "        'Electronic check', '10', '10', '10']], dtype='<U21')"
      ]
     },
     "execution_count": 175,
     "metadata": {},
     "output_type": "execute_result"
    }
   ],
   "source": [
    "X = np.array([['Female', 'Yes', 'Yes','No', 12,'No','No','DSL','No','No','No','Yes','No','No',\n",
    "               'Month-to-month','Yes','Electronic check',10, 10, 10]])\n",
    "X"
   ]
  },
  {
   "cell_type": "markdown",
   "id": "54733fad",
   "metadata": {},
   "source": [
    "## Encoding the features"
   ]
  },
  {
   "cell_type": "code",
   "execution_count": 176,
   "id": "1d2f6f42",
   "metadata": {},
   "outputs": [],
   "source": [
    "X[:, 0] = le_gender.transform(X[:, 0])\n",
    "X[:, 1] = le_senior_citizen.transform(X[:, 1])\n",
    "X[:, 2] = le_partner.transform(X[:, 2])\n",
    "X[:, 3] = le_dependents.transform(X[:, 3])\n",
    "X[:, 5] = le_phone_service.transform(X[:, 5])\n",
    "X[:, 6] = le_multiple_lines.transform(X[:, 6])\n",
    "X[:, 7] = le_internet_service.transform(X[:, 7])\n",
    "X[:, 8] = le_online_security.transform(X[:, 8])\n",
    "X[:, 9] = le_online_backup.transform(X[:, 9])\n",
    "X[:, 10] = le_device_protection.transform(X[:, 10])\n",
    "X[:, 11] = le_tech_support.transform(X[:, 11])\n",
    "X[:, 12] = le_streaming_tv.transform(X[:, 12])\n",
    "X[:, 13] = le_streaming_movies.transform(X[:, 13])\n",
    "X[:, 14] = le_contract.transform(X[:, 14])\n",
    "X[:, 15] = le_paperless_billing.transform(X[:, 15])\n",
    "X[:, 16] = le_payment_method.transform(X[:, 16])\n"
   ]
  },
  {
   "cell_type": "code",
   "execution_count": 177,
   "id": "59f25e0d",
   "metadata": {},
   "outputs": [
    {
     "data": {
      "text/plain": [
       "array([[ 0.,  1.,  1.,  0., 12.,  0.,  0.,  0.,  0.,  0.,  0.,  1.,  0.,\n",
       "         0.,  0.,  1.,  2., 10., 10., 10.]])"
      ]
     },
     "execution_count": 177,
     "metadata": {},
     "output_type": "execute_result"
    }
   ],
   "source": [
    "X = X.astype(float)\n",
    "X"
   ]
  },
  {
   "cell_type": "code",
   "execution_count": 178,
   "id": "ae9f16e7",
   "metadata": {},
   "outputs": [
    {
     "data": {
      "text/plain": [
       "array([1])"
      ]
     },
     "execution_count": 178,
     "metadata": {},
     "output_type": "execute_result"
    }
   ],
   "source": [
    "best_random_forest_predictions = best_random_forest_model.predict(X)\n",
    "best_random_forest_predictions "
   ]
  },
  {
   "cell_type": "markdown",
   "id": "2016b645",
   "metadata": {},
   "source": [
    "## Saving the model"
   ]
  },
  {
   "cell_type": "code",
   "execution_count": 179,
   "id": "fb1a3c8d",
   "metadata": {},
   "outputs": [],
   "source": [
    "import pickle"
   ]
  },
  {
   "cell_type": "code",
   "execution_count": 180,
   "id": "15731342",
   "metadata": {},
   "outputs": [
    {
     "name": "stdout",
     "output_type": "stream",
     "text": [
      "This customer is likely to leave the company\n"
     ]
    }
   ],
   "source": [
    "data = {\n",
    "    \"model\": best_random_forest_model,\n",
    "    \"le_gender\": le_gender,\n",
    "    \"le_senior_citizen\": le_senior_citizen,\n",
    "    \"le_partner\": le_partner,\n",
    "    \"le_dependents\": le_dependents,\n",
    "    \"le_phone_service\": le_phone_service,\n",
    "    \"le_multiple_lines\": le_multiple_lines,\n",
    "    \"le_internet_service\": le_internet_service,\n",
    "    \"le_online_security\": le_online_security,\n",
    "    \"le_online_backup\": le_online_backup,\n",
    "    \"le_device_protection\": le_device_protection,\n",
    "    \"le_tech_support\": le_tech_support,\n",
    "    \"le_streaming_tv\": le_streaming_tv,\n",
    "    \"le_streaming_movies\": le_streaming_movies,\n",
    "    \"le_contract\": le_contract,\n",
    "    \"le_paperless_billing\": le_paperless_billing,\n",
    "    \"le_payment_method\": le_payment_method,\n",
    "}\n",
    "\n",
    "with open('saved_model.pkl', 'wb') as file:\n",
    "    pickle.dump(data, file)\n",
    "\n",
    "with open('saved_model.pkl', 'rb') as file:\n",
    "    data = pickle.load(file)\n",
    "\n",
    "loaded_prediction_model  = data[\"model\"]\n",
    "\n",
    "le_gender = data[\"le_gender\"]\n",
    "le_senior_citizen = data[\"le_senior_citizen\"]\n",
    "le_partner = data[\"le_partner\"]\n",
    "le_dependents = data[\"le_dependents\"]\n",
    "le_phone_service = data[\"le_phone_service\"]\n",
    "le_multiple_lines = data[\"le_multiple_lines\"]\n",
    "le_internet_service = data[\"le_internet_service\"]\n",
    "le_online_security = data[\"le_online_security\"]\n",
    "le_online_backup = data[\"le_online_backup\"]\n",
    "le_device_protection = data[\"le_device_protection\"]\n",
    "le_tech_support = data[\"le_tech_support\"]\n",
    "le_streaming_tv = data[\"le_streaming_tv\"]\n",
    "le_streaming_movies = data[\"le_streaming_movies\"]\n",
    "le_contract = data[\"le_contract\"]\n",
    "le_paperless_billing = data[\"le_paperless_billing\"]\n",
    "le_payment_method = data[\"le_payment_method\"]\n",
    "\n",
    "y_pred = loaded_prediction_model.predict(X)\n",
    "\n",
    "if y_pred[0] == 0:\n",
    "    print(\"This customer is likely to remain with the company\")\n",
    "elif y_pred[0] == 1:\n",
    "    print(\"This customer is likely to leave the company\")\n",
    "else:\n",
    "    print(\"Unexpected prediction value\")\n"
   ]
  },
  {
   "cell_type": "code",
   "execution_count": 171,
   "id": "88ef7af0",
   "metadata": {},
   "outputs": [],
   "source": [
    "from sklearn.metrics import accuracy_score, precision_score, recall_score, f1_score\n",
    "\n",
    "# Calculate metrics for Logistic Regression\n",
    "logistic_accuracy = accuracy_score(y_test, logistic_predictions)\n",
    "logistic_precision = precision_score(y_test, logistic_predictions)\n",
    "logistic_recall = recall_score(y_test, logistic_predictions)\n",
    "logistic_f1 = f1_score(y_test, logistic_predictions)\n",
    "\n",
    "# Calculate metrics for Decision Tree\n",
    "dt_accuracy = accuracy_score(y_test, dt_predictions)\n",
    "dt_precision = precision_score(y_test, dt_predictions)\n",
    "dt_recall = recall_score(y_test, dt_predictions)\n",
    "dt_f1 = f1_score(y_test, dt_predictions)\n",
    "\n",
    "# Calculate metrics for XGBoost\n",
    "xgb_accuracy = accuracy_score(y_test, xgb_predictions)\n",
    "xgb_precision = precision_score(y_test, xgb_predictions)\n",
    "xgb_recall = recall_score(y_test, xgb_predictions)\n",
    "xgb_f1 = f1_score(y_test, xgb_predictions)\n",
    "\n",
    "# Calculate metrics for Random Forest\n",
    "rf_accuracy = accuracy_score(y_test, best_random_forest_predictions)\n",
    "rf_precision = precision_score(y_test, best_random_forest_predictions)\n",
    "rf_recall = recall_score(y_test, best_random_forest_predictions)\n",
    "rf_f1 = f1_score(y_test, best_random_forest_predictions)\n",
    "\n"
   ]
  },
  {
   "cell_type": "code",
   "execution_count": 172,
   "id": "85882ebc",
   "metadata": {},
   "outputs": [
    {
     "data": {
      "image/png": "[encoded data removed]",
      "text/plain": [
       "<Figure size 1200x600 with 4 Axes>"
      ]
     },
     "metadata": {},
     "output_type": "display_data"
    }
   ],
   "source": [
    "import matplotlib.pyplot as plt\n",
    "\n",
    "# List of models and their corresponding metrics\n",
    "models = ['Logistic Regression', 'Decision Tree', 'XGBoost', 'Random Forest']\n",
    "accuracy_scores = [logistic_accuracy, dt_accuracy, xgb_accuracy, rf_accuracy]\n",
    "precision_scores = [logistic_precision, dt_precision, xgb_precision, rf_precision]\n",
    "recall_scores = [logistic_recall, dt_recall, xgb_recall, rf_recall]\n",
    "f1_scores = [logistic_f1, dt_f1, xgb_f1, rf_f1]\n",
    "\n",
    "# Plotting the metrics\n",
    "plt.figure(figsize=(12, 6))\n",
    "\n",
    "# Accuracy plot\n",
    "plt.subplot(2, 2, 1)\n",
    "plt.bar(models, accuracy_scores, color='skyblue')\n",
    "plt.title('Accuracy')\n",
    "\n",
    "# Precision plot\n",
    "plt.subplot(2, 2, 2)\n",
    "plt.bar(models, precision_scores, color='lightgreen')\n",
    "plt.title('Precision')\n",
    "\n",
    "# Recall plot\n",
    "plt.subplot(2, 2, 3)\n",
    "plt.bar(models, recall_scores, color='lightcoral')\n",
    "plt.title('Recall')\n",
    "\n",
    "# F1-score plot\n",
    "plt.subplot(2, 2, 4)\n",
    "plt.bar(models, f1_scores, color='lightblue')\n",
    "plt.title('F1-Score')\n",
    "\n",
    "plt.tight_layout()\n",
    "plt.show()\n"
   ]
  },
  {
   "cell_type": "code",
   "execution_count": 173,
   "id": "a6c04109",
   "metadata": {},
   "outputs": [
    {
     "data": {
      "image/png": "[encoded data removed]",
      "text/plain": [
       "<Figure size 1000x600 with 1 Axes>"
      ]
     },
     "metadata": {},
     "output_type": "display_data"
    }
   ],
   "source": [
    "from sklearn.metrics import roc_curve, roc_auc_score\n",
    "import matplotlib.pyplot as plt\n",
    "\n",
    "# Calculate ROC curve and ROC AUC score for Logistic Regression\n",
    "logistic_probs = logistic_model.predict_proba(X_test)[:, 1]\n",
    "logistic_fpr, logistic_tpr, _ = roc_curve(y_test, logistic_probs)\n",
    "logistic_roc_auc = roc_auc_score(y_test, logistic_probs)\n",
    "\n",
    "# Calculate ROC curve and ROC AUC score for Decision Tree\n",
    "dt_probs = dt_classifier.predict_proba(X_test)[:, 1]\n",
    "dt_fpr, dt_tpr, _ = roc_curve(y_test, dt_probs)\n",
    "dt_roc_auc = roc_auc_score(y_test, dt_probs)\n",
    "\n",
    "# Calculate ROC curve and ROC AUC score for XGBoost\n",
    "xgb_probs = xgb_model.predict_proba(X_test)[:, 1]\n",
    "xgb_fpr, xgb_tpr, _ = roc_curve(y_test, xgb_probs)\n",
    "xgb_roc_auc = roc_auc_score(y_test, xgb_probs)\n",
    "\n",
    "# Calculate ROC curve and ROC AUC score for Random Forest\n",
    "rf_probs = best_random_forest_model.predict_proba(X_test)[:, 1]\n",
    "rf_fpr, rf_tpr, _ = roc_curve(y_test, rf_probs)\n",
    "rf_roc_auc = roc_auc_score(y_test, rf_probs)\n",
    "\n",
    "# Plot ROC curves\n",
    "plt.figure(figsize=(10, 6))\n",
    "plt.plot(logistic_fpr, logistic_tpr, color='darkorange', lw=2, label=f'Logistic Regression (AUC = {logistic_roc_auc:.2f})')\n",
    "plt.plot(dt_fpr, dt_tpr, color='green', lw=2, label=f'Decision Tree (AUC = {dt_roc_auc:.2f})')\n",
    "plt.plot(xgb_fpr, xgb_tpr, color='blue', lw=2, label=f'XGBoost (AUC = {xgb_roc_auc:.2f})')\n",
    "plt.plot(rf_fpr, rf_tpr, color='red', lw=2, label=f'Random Forest (AUC = {rf_roc_auc:.2f})')\n",
    "\n",
    "plt.plot([0, 1], [0, 1], color='navy', lw=2, linestyle='--')\n",
    "plt.xlim([0.0, 1.0])\n",
    "plt.ylim([0.0, 1.05])\n",
    "plt.xlabel('False Positive Rate')\n",
    "plt.ylabel('True Positive Rate')\n",
    "plt.title('Receiver Operating Characteristic (ROC) Curve')\n",
    "plt.legend(loc='lower right')\n",
    "plt.show()\n"
   ]
  },
  {
   "cell_type": "code",
   "execution_count": 182,
   "id": "d6ce1236",
   "metadata": {},
   "outputs": [
    {
     "data": {
      "text/plain": [
       "118.75"
      ]
     },
     "execution_count": 182,
     "metadata": {},
     "output_type": "execute_result"
    }
   ],
   "source": [
    "df['Monthly Charges'].max()"
   ]
  },
  {
   "cell_type": "code",
   "execution_count": null,
   "id": "af7818be",
   "metadata": {},
   "outputs": [],
   "source": []
  }
 ],
 "metadata": {
  "kernelspec": {
   "display_name": "Python 3 (ipykernel)",
   "language": "python",
   "name": "python3"
  },
  "language_info": {
   "codemirror_mode": {
    "name": "ipython",
    "version": 3
   },
   "file_extension": ".py",
   "mimetype": "text/x-python",
   "name": "python",
   "nbconvert_exporter": "python",
   "pygments_lexer": "ipython3",
   "version": "3.11.4"
  }
 },
 "nbformat": 4,
 "nbformat_minor": 5
}
